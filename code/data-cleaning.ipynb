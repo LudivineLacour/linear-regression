{
 "cells": [
  {
   "cell_type": "code",
   "execution_count": null,
   "metadata": {},
   "outputs": [],
   "source": [
    "import pandas as pd\n",
    "import numpy as np\n",
    "\n",
    "pd.set_option('max_columns',100)"
   ]
  },
  {
   "cell_type": "code",
   "execution_count": null,
   "metadata": {},
   "outputs": [],
   "source": [
    "df = pd.read_csv('data/life_expectancy_data.csv')\n",
    "df.head()"
   ]
  },
  {
   "cell_type": "code",
   "execution_count": null,
   "metadata": {},
   "outputs": [],
   "source": [
    "df.shape"
   ]
  },
  {
   "cell_type": "code",
   "execution_count": null,
   "metadata": {},
   "outputs": [],
   "source": [
    "# Cleaning columns name to avoid manipulation errors (remove useless spaces, lowercase, replace interspace by dash)\n",
    "\n",
    "df.columns = [i.strip().lower().replace(' ','_') for i in df.columns]\n",
    "df = df.rename(columns={'thinness__1-19_years':'thinness_1-19_years'})"
   ]
  },
  {
   "cell_type": "markdown",
   "metadata": {},
   "source": [
    "## Correction of country status"
   ]
  },
  {
   "cell_type": "code",
   "execution_count": null,
   "metadata": {},
   "outputs": [],
   "source": [
    "df[df.status=='Developing']['country'].unique()"
   ]
  },
  {
   "cell_type": "code",
   "execution_count": null,
   "metadata": {},
   "outputs": [],
   "source": [
    "# Get a list of developed countries from Wikipedia comparative table to correct the information\n",
    "\n",
    "text=\"\"\"Lithuania\n",
    "Latvia\n",
    " Estonia\n",
    " Israel\n",
    " Slovenia\n",
    " Czech Republic\n",
    " Slovak Republic\n",
    " South Korea\n",
    " Portugal\n",
    " Greece\n",
    " New Zealand\n",
    " Spain\n",
    " Ireland\n",
    " Finland\n",
    " Iceland\n",
    " United Kingdom\n",
    " Sweden\n",
    " Italy\n",
    " Australia\n",
    " Canada\n",
    " Belgium\n",
    " France\n",
    " Japan\n",
    " Luxembourg\n",
    " Austria\n",
    " Netherlands\n",
    " Germany\n",
    " Denmark\n",
    " United States\n",
    " Norway\n",
    "Switzerland\"\"\"\n",
    "\n",
    "developed_countries = text.strip().split()"
   ]
  },
  {
   "cell_type": "code",
   "execution_count": null,
   "metadata": {},
   "outputs": [],
   "source": [
    "# Correct the status of these countries that are false\n",
    "\n",
    "def fix_status(country):\n",
    "    \n",
    "    global developed_countries\n",
    "    \n",
    "    if country in developed_countries:\n",
    "        return 'Developed'\n",
    "    else:\n",
    "        return 'Developing'\n",
    "    \n",
    "# Testing the function\n",
    "fix_status('Canada')\n"
   ]
  },
  {
   "cell_type": "code",
   "execution_count": null,
   "metadata": {},
   "outputs": [],
   "source": [
    "df.status = df.apply(lambda x: fix_status(x['country']) if x['status']=='Developing' else x['status'], axis=1)"
   ]
  },
  {
   "cell_type": "code",
   "execution_count": null,
   "metadata": {},
   "outputs": [],
   "source": [
    "df.status.value_counts()"
   ]
  },
  {
   "cell_type": "code",
   "execution_count": null,
   "metadata": {},
   "outputs": [],
   "source": [
    "df[df.status=='Developed']['country'].unique()"
   ]
  },
  {
   "cell_type": "markdown",
   "metadata": {},
   "source": [
    "## Checking missing values"
   ]
  },
  {
   "cell_type": "code",
   "execution_count": null,
   "metadata": {},
   "outputs": [],
   "source": [
    "df.isna().sum()"
   ]
  },
  {
   "cell_type": "code",
   "execution_count": null,
   "metadata": {},
   "outputs": [],
   "source": [
    "# checking the country having more than 6 nan values in the row (so missing values for 6 columns)\n",
    "\n",
    "\"\"\"\n",
    "Here I think we should drop these rows because it will\n",
    "On 22 columns, we have 17 relevant columns so 6 is about 35% of missing values for the given country\n",
    "\"\"\"\n",
    "\n",
    "rows_to_drop = df[df['country'].isin(df.loc[df.isna().sum(axis=1)>6]['country'].unique())].index\n",
    "df.drop(index=rows_to_drop,inplace=True)"
   ]
  },
  {
   "cell_type": "code",
   "execution_count": null,
   "metadata": {},
   "outputs": [],
   "source": [
    "df.shape"
   ]
  },
  {
   "cell_type": "code",
   "execution_count": null,
   "metadata": {},
   "outputs": [],
   "source": [
    "# Checking null values for schooling\n",
    "\n",
    "\"\"\"\n",
    "No value available from the country when missing values. \n",
    "What should we do? Drop the rows for the given country or replacing the values by mode of the same continent?\n",
    "\"\"\"\n",
    "\n",
    "print(len(df[df.schooling.isna()]['country'].unique()))\n",
    "df[df.schooling.isna()]['country'].unique()"
   ]
  },
  {
   "cell_type": "code",
   "execution_count": null,
   "metadata": {},
   "outputs": [],
   "source": [
    "# checking null values for the income composition of resources\n",
    "\n",
    "print(len(df[df['income_composition_of_resources'].isna()]['country'].unique()))\n",
    "df[df['income_composition_of_resources'].isna()]['country'].unique()"
   ]
  },
  {
   "cell_type": "code",
   "execution_count": null,
   "metadata": {},
   "outputs": [],
   "source": [
    "# checking null values for thinness 5-9 years and 1-19 years\n",
    "\n",
    "print(len(df[df['thinness_5-9_years'].isna()]['country'].unique()))\n",
    "print(df[df['thinness_5-9_years'].isna()]['country'].unique())\n",
    "print(len(df[df['thinness_1-19_years'].isna()]['country'].unique()))\n",
    "print(df[df['thinness_1-19_years'].isna()]['country'].unique())"
   ]
  },
  {
   "cell_type": "code",
   "execution_count": null,
   "metadata": {},
   "outputs": [],
   "source": [
    "# Adding these 2 columns because income composition of resources makes no sense and \n",
    "# thinness 5-9 years is already included in thinness 1-19 years\n",
    "\n",
    "columns_to_drop=[] # Creating a list to store the columns to drop\n",
    "columns_to_drop.extend(['income_composition_of_resources','thinness_5-9_years'])"
   ]
  },
  {
   "cell_type": "code",
   "execution_count": null,
   "metadata": {},
   "outputs": [],
   "source": [
    "# checking null values for population\n",
    "\n",
    "\"\"\"\n",
    "Here we may drop the column because it has no sense without the size of the country\n",
    "\"\"\"\n",
    "\n",
    "print(len(df[df['population'].isna()]['country'].unique()))\n",
    "df[df['population'].isna()]['country'].unique()"
   ]
  },
  {
   "cell_type": "code",
   "execution_count": null,
   "metadata": {},
   "outputs": [],
   "source": [
    "columns_to_drop.append('population')"
   ]
  },
  {
   "cell_type": "code",
   "execution_count": null,
   "metadata": {},
   "outputs": [],
   "source": [
    "# checking null values for Gross Domestic Product per capita (in USD)\n",
    "\n",
    "\"\"\"\n",
    "A lot of missing values. We should drop this value because it makes no sense as it is dependant of the population.\n",
    "\"\"\"\n",
    "\n",
    "print(len(df[df['gdp'].isna()]['country'].unique()))\n",
    "df[df['gdp'].isna()]['country'].unique()"
   ]
  },
  {
   "cell_type": "code",
   "execution_count": null,
   "metadata": {},
   "outputs": [],
   "source": [
    "columns_to_drop.append('gdp')"
   ]
  },
  {
   "cell_type": "code",
   "execution_count": null,
   "metadata": {},
   "outputs": [],
   "source": [
    "# checking null values for the income composition of resources\n",
    "\n",
    "\"\"\"\n",
    "Should we drop these rows because we wouldn't be able to compare the predictions to the current value? \n",
    "\"\"\"\n",
    "\n",
    "print(len(df[df['life_expectancy'].isna()]['country'].unique()))\n",
    "country_drop = df[df['life_expectancy'].isna()]['country'].unique()\n",
    "country_drop"
   ]
  },
  {
   "cell_type": "code",
   "execution_count": null,
   "metadata": {},
   "outputs": [],
   "source": [
    "rows_to_drop = df[df.country.isin(country_drop)].index\n",
    "df.drop(index=rows_to_drop,inplace=True)"
   ]
  },
  {
   "cell_type": "code",
   "execution_count": null,
   "metadata": {},
   "outputs": [],
   "source": [
    "df = df.reset_index()\n",
    "columns_to_drop.append('index')"
   ]
  },
  {
   "cell_type": "code",
   "execution_count": null,
   "metadata": {},
   "outputs": [],
   "source": [
    "df.head()"
   ]
  },
  {
   "cell_type": "markdown",
   "metadata": {},
   "source": [
    "## Final cleaning"
   ]
  },
  {
   "cell_type": "code",
   "execution_count": null,
   "metadata": {},
   "outputs": [],
   "source": [
    "# Droping useless columns before calculating data\n",
    "df.drop(columns=columns_to_drop,inplace=True)"
   ]
  },
  {
   "cell_type": "code",
   "execution_count": null,
   "metadata": {},
   "outputs": [],
   "source": [
    "df.shape"
   ]
  },
  {
   "cell_type": "code",
   "execution_count": null,
   "metadata": {},
   "outputs": [],
   "source": [
    "# Replacing missing values by the mean of other values in the column for the given country\n",
    "\n",
    "for column in df.columns:\n",
    "    for i in range(df.shape[0]):\n",
    "        country=df['country'][i]\n",
    "        if (df[column].isnull()[i]==True):\n",
    "            df[column][i]=df[df['country']==country][column].mean()\n",
    "       \n",
    "    \n",
    "# Replacing all missing values by the mean of countries in the same status (Developed or Developing)\n",
    "df_developped=df[(df['status']=='Developed')].fillna(df[(df['status']=='Developed')].mean())\n",
    "df_Developing=df[(df['status']=='Developing')].fillna(df[(df['status']=='Developing')].mean())\n",
    "df=df_Developing.append(df_developped)"
   ]
  },
  {
   "cell_type": "code",
   "execution_count": null,
   "metadata": {},
   "outputs": [],
   "source": [
    "df.isna().sum()"
   ]
  },
  {
   "cell_type": "code",
   "execution_count": null,
   "metadata": {},
   "outputs": [],
   "source": [
    "df.drop(columns=['country','year'],inplace=True)\n",
    "df.shape"
   ]
  },
  {
   "cell_type": "code",
   "execution_count": null,
   "metadata": {},
   "outputs": [],
   "source": [
    "# Get dummies for status column\n",
    "\n",
    "df = pd.get_dummies(data=df,columns=['status'], drop_first=True)\n",
    "df.head()"
   ]
  },
  {
   "cell_type": "markdown",
   "metadata": {},
   "source": [
    "## Saving cleaned dataframe"
   ]
  },
  {
   "cell_type": "code",
   "execution_count": null,
   "metadata": {},
   "outputs": [],
   "source": [
    "df.to_csv('data/life_expectancy_data_cleaned.csv',index=False)"
   ]
  },
  {
   "cell_type": "code",
   "execution_count": null,
   "metadata": {},
   "outputs": [],
   "source": []
  }
 ],
 "metadata": {
  "kernelspec": {
   "display_name": "Python 3",
   "language": "python",
   "name": "python3"
  },
  "language_info": {
   "codemirror_mode": {
    "name": "ipython",
    "version": 3
   },
   "file_extension": ".py",
   "mimetype": "text/x-python",
   "name": "python",
   "nbconvert_exporter": "python",
   "pygments_lexer": "ipython3",
   "version": "3.7.4"
  }
 },
 "nbformat": 4,
 "nbformat_minor": 2
}
