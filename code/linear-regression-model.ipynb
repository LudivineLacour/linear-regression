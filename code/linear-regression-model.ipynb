{
 "cells": [
  {
   "cell_type": "code",
   "execution_count": null,
   "metadata": {},
   "outputs": [],
   "source": [
    "import pandas as pd\n",
    "import numpy as np\n",
    "import statsmodels.api as sm\n",
    "from statsmodels.tools.tools import add_constant\n",
    "import matplotlib.pyplot as plt\n",
    "import seaborn as sns"
   ]
  },
  {
   "cell_type": "code",
   "execution_count": null,
   "metadata": {},
   "outputs": [],
   "source": [
    "df = pd.read_csv('../data/life_expectancy_data_cleaned.csv')\n",
    "df.head()"
   ]
  },
  {
   "cell_type": "code",
   "execution_count": null,
   "metadata": {},
   "outputs": [],
   "source": [
    "y = df.life_expectancy\n",
    "X = df.drop(columns='life_expectancy')"
   ]
  },
  {
   "cell_type": "code",
   "execution_count": null,
   "metadata": {},
   "outputs": [],
   "source": [
    "model=sm.OLS(y,add_constant(X))"
   ]
  },
  {
   "cell_type": "code",
   "execution_count": null,
   "metadata": {},
   "outputs": [],
   "source": [
    "model_fit=model.fit()"
   ]
  },
  {
   "cell_type": "code",
   "execution_count": null,
   "metadata": {},
   "outputs": [],
   "source": [
    "model_fit.summary()"
   ]
  },
  {
   "cell_type": "markdown",
   "metadata": {},
   "source": [
    "## P-Hacking and model improvement"
   ]
  },
  {
   "cell_type": "code",
   "execution_count": null,
   "metadata": {
    "scrolled": true
   },
   "outputs": [],
   "source": [
    "# Defining a function to drop the column and return the new model\n",
    "\n",
    "def phacking(column,X):\n",
    "    \n",
    "    if column:\n",
    "        X=X.drop(column,axis=1)\n",
    "    \n",
    "    model=sm.OLS(y,add_constant(X)).fit()\n",
    "    \n",
    "    display(model.summary())\n",
    "    \n",
    "    return X\n",
    "\n",
    "# Testing the function\n",
    "\n",
    "phacking('',X)"
   ]
  },
  {
   "cell_type": "code",
   "execution_count": null,
   "metadata": {},
   "outputs": [],
   "source": [
    "dropped_cols = []"
   ]
  },
  {
   "cell_type": "code",
   "execution_count": null,
   "metadata": {},
   "outputs": [],
   "source": [
    "dropped_cols.append('alcohol')\n",
    "dropped_cols[-1]"
   ]
  },
  {
   "cell_type": "code",
   "execution_count": null,
   "metadata": {},
   "outputs": [],
   "source": [
    "X=phacking(dropped_cols[-1],X)"
   ]
  },
  {
   "cell_type": "code",
   "execution_count": null,
   "metadata": {},
   "outputs": [],
   "source": [
    "\"\"\"\n",
    "Summary of the model:\n",
    "\n",
    "The pvalue of F-statistic is under 0.05 so we have small chances of being wrong \n",
    "if we assume the parameters are not equals to 0 at the same time.\n",
    "\n",
    "All our parameters have a pvalue under 0.05 that means we have small chances of being wrong is by keeping them.\n",
    "\n",
    "R-squared value is high (81.7%) and increased a slightly when we removed the parameters.\n",
    "\n",
    "AIC and BIC are almost zero so we can assume they are low. \n",
    "\n",
    "We still have some warnings displayed at the end of the model, especially about multicollinearity,\n",
    "so we should check our assumptions and transform our data if needed.\n",
    "\n",
    "\"\"\""
   ]
  },
  {
   "cell_type": "markdown",
   "metadata": {},
   "source": [
    "## Quick check of Assumptions"
   ]
  },
  {
   "cell_type": "code",
   "execution_count": null,
   "metadata": {
    "scrolled": true
   },
   "outputs": [],
   "source": [
    "# Re-building the model outside of the function \n",
    "\n",
    "model = sm.OLS(y,add_constant(X))\n",
    "model_fit=model.fit()\n",
    "model_fit.save('fitted_model_1.pickle')\n",
    "model_fit.summary()"
   ]
  },
  {
   "cell_type": "code",
   "execution_count": null,
   "metadata": {},
   "outputs": [],
   "source": [
    "# Building the predictions\n",
    "\n",
    "y_pred=model_fit.predict(add_constant(X))\n",
    "y_pred"
   ]
  },
  {
   "cell_type": "code",
   "execution_count": null,
   "metadata": {},
   "outputs": [],
   "source": [
    "# Checking if predictions seems to be linear\n",
    "plt.scatter(y,y_pred);"
   ]
  },
  {
   "cell_type": "code",
   "execution_count": null,
   "metadata": {},
   "outputs": [],
   "source": [
    "# Checking residuals\n",
    "(y-y_pred).mean()"
   ]
  },
  {
   "cell_type": "code",
   "execution_count": null,
   "metadata": {},
   "outputs": [],
   "source": [
    "# Checking how residuals are displayed\n",
    "plt.plot(y-y_pred);"
   ]
  },
  {
   "cell_type": "code",
   "execution_count": null,
   "metadata": {},
   "outputs": [],
   "source": [
    "resid=y-y_pred\n",
    "sns.distplot(resid);"
   ]
  },
  {
   "cell_type": "code",
   "execution_count": null,
   "metadata": {},
   "outputs": [],
   "source": [
    "\"\"\"\n",
    "Summary of first checking: \n",
    "\n",
    "The predictions seems to be linear even if we can still see some outliers at the begining. \n",
    "\n",
    "The average of residuals value is almost 0 so our errors seems to be minimized. \n",
    "In the meantime, we can see the noise is not so regular and we can clearly identify outliers. \n",
    "\n",
    "Then, we can see residuals look like normally distributed but we should still confirm that with the hypothesis.\n",
    "\n",
    "Finally, we should check the assumptions mathematically. \n",
    "\n",
    "\"\"\""
   ]
  },
  {
   "cell_type": "markdown",
   "metadata": {},
   "source": [
    "## Iteration on model-1\n",
    "\n",
    "Following a check of assumptions on Model-1 [assumptions-model-1.ipynb](assumptions-model-1.ipynb). It doesn't meet the assumptions so we should iterate to create a new model and check again the assumptions. "
   ]
  },
  {
   "cell_type": "code",
   "execution_count": null,
   "metadata": {},
   "outputs": [],
   "source": [
    "X2 = X.copy()"
   ]
  },
  {
   "cell_type": "code",
   "execution_count": null,
   "metadata": {},
   "outputs": [],
   "source": []
  },
  {
   "cell_type": "code",
   "execution_count": null,
   "metadata": {},
   "outputs": [],
   "source": []
  }
 ],
 "metadata": {
  "kernelspec": {
   "display_name": "Python 3",
   "language": "python",
   "name": "python3"
  },
  "language_info": {
   "codemirror_mode": {
    "name": "ipython",
    "version": 3
   },
   "file_extension": ".py",
   "mimetype": "text/x-python",
   "name": "python",
   "nbconvert_exporter": "python",
   "pygments_lexer": "ipython3",
   "version": "3.7.4"
  }
 },
 "nbformat": 4,
 "nbformat_minor": 2
}
